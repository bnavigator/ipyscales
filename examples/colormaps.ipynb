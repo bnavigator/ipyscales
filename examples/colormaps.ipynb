{
 "cells": [
  {
   "cell_type": "markdown",
   "metadata": {},
   "source": [
    "# Color maps"
   ]
  },
  {
   "cell_type": "code",
   "execution_count": 1,
   "metadata": {},
   "outputs": [],
   "source": [
    "from ipyscales import (\n",
    "    LinearColorScale, LogColorScale, NamedSequentialColorMap, NamedDivergingColorMap,\n",
    "    NamedOrdinalColorMap, ColorBar\n",
    ")"
   ]
  },
  {
   "cell_type": "code",
   "execution_count": 2,
   "metadata": {},
   "outputs": [],
   "source": [
    "from IPython.display import display\n",
    "\n",
    "def visualize(cm):\n",
    "    display(ColorBar(\n",
    "        colormap=cm,\n",
    "        length=500,\n",
    "        orientation='horizontal'\n",
    "    ))"
   ]
  },
  {
   "cell_type": "code",
   "execution_count": 3,
   "metadata": {},
   "outputs": [
    {
     "data": {
      "application/vnd.jupyter.widget-view+json": {
       "model_id": "c9d89b646aef4a73aaf6dfefa15f238a",
       "version_major": 2,
       "version_minor": 0
      },
      "text/plain": [
       "ColorBar(colormap=LinearColorScale(domain=(0.0, 1.0), range=('red', 'blue')), length=500, orientation='horizon…"
      ]
     },
     "metadata": {},
     "output_type": "display_data"
    }
   ],
   "source": [
    "visualize(\n",
    "    LinearColorScale(range=('red', 'blue'))\n",
    ")"
   ]
  },
  {
   "cell_type": "code",
   "execution_count": 4,
   "metadata": {},
   "outputs": [
    {
     "data": {
      "application/vnd.jupyter.widget-view+json": {
       "model_id": "d763ac9fdfad4865acbb8b9000a8dbcf",
       "version_major": 2,
       "version_minor": 0
      },
      "text/plain": [
       "ColorBar(colormap=LogColorScale(domain=(1.0, 10.0), range=('green', 'orange')), length=500, orientation='horiz…"
      ]
     },
     "metadata": {},
     "output_type": "display_data"
    }
   ],
   "source": [
    "visualize(\n",
    "    LogColorScale(range=('green', 'orange'), base=10)\n",
    ")"
   ]
  },
  {
   "cell_type": "code",
   "execution_count": 5,
   "metadata": {},
   "outputs": [
    {
     "data": {
      "application/vnd.jupyter.widget-view+json": {
       "model_id": "5d354bffcb594efab5925f74ab9d9007",
       "version_major": 2,
       "version_minor": 0
      },
      "text/plain": [
       "ColorBar(colormap=NamedSequentialColorMap(domain=(0.0, 1.0)), length=500, orientation='horizontal')"
      ]
     },
     "metadata": {},
     "output_type": "display_data"
    }
   ],
   "source": [
    "visualize(\n",
    "    NamedSequentialColorMap('Viridis')\n",
    ")"
   ]
  },
  {
   "cell_type": "code",
   "execution_count": 6,
   "metadata": {},
   "outputs": [
    {
     "data": {
      "application/vnd.jupyter.widget-view+json": {
       "model_id": "a7a0b70e6ece4cc1a287ccb42b96e316",
       "version_major": 2,
       "version_minor": 0
      },
      "text/plain": [
       "ColorBar(colormap=NamedDivergingColorMap(domain=(-1.0, 0.0, 1.0), name='RdBu'), length=500, orientation='horiz…"
      ]
     },
     "metadata": {},
     "output_type": "display_data"
    }
   ],
   "source": [
    "visualize(\n",
    "    NamedDivergingColorMap('RdBu', domain=(-1, 0, 1))\n",
    ")"
   ]
  },
  {
   "cell_type": "code",
   "execution_count": 7,
   "metadata": {},
   "outputs": [
    {
     "data": {
      "application/vnd.jupyter.widget-view+json": {
       "model_id": "73a26fd966ea47d2a2539a6a7178b0e6",
       "version_major": 2,
       "version_minor": 0
      },
      "text/plain": [
       "ColorBar(colormap=NamedOrdinalColorMap(cardinality=8, domain=(0, 1, 2, 3, 4, 5, 6, 7, 8, 9), name='Accent'), l…"
      ]
     },
     "metadata": {},
     "output_type": "display_data"
    }
   ],
   "source": [
    "visualize(\n",
    "    NamedOrdinalColorMap('Accent', domain=tuple(range(10)))\n",
    ")"
   ]
  },
  {
   "cell_type": "code",
   "execution_count": 11,
   "metadata": {},
   "outputs": [
    {
     "data": {
      "application/vnd.jupyter.widget-view+json": {
       "model_id": "035d8328a73e4ca78bce91c5ce29c5ba",
       "version_major": 2,
       "version_minor": 0
      },
      "text/plain": [
       "ColorBar(colormap=NamedDivergingColorMap(clamp=True, domain=(0.0, 4.0, 8.0), name='PiYG'), length=500, orienta…"
      ]
     },
     "metadata": {},
     "output_type": "display_data"
    }
   ],
   "source": [
    "visualize(\n",
    "    NamedDivergingColorMap('PiYG', domain=(0, 4, 8), clamp=True)\n",
    ")"
   ]
  },
  {
   "cell_type": "code",
   "execution_count": null,
   "metadata": {},
   "outputs": [],
   "source": []
  }
 ],
 "metadata": {
  "kernelspec": {
   "display_name": "Python 3",
   "language": "python",
   "name": "python3"
  },
  "language_info": {
   "codemirror_mode": {
    "name": "ipython",
    "version": 3
   },
   "file_extension": ".py",
   "mimetype": "text/x-python",
   "name": "python",
   "nbconvert_exporter": "python",
   "pygments_lexer": "ipython3",
   "version": "3.6.6"
  },
  "widgets": {
   "application/vnd.jupyter.widget-state+json": {
    "state": {
     "064c563dc7304e62bbdab5e63be9ab6c": {
      "model_module": "@jupyter-widgets/base",
      "model_module_version": "1.1.0",
      "model_name": "LayoutModel",
      "state": {}
     },
     "3306014434b94a6aa4d61edc2da5a685": {
      "model_module": "jupyter-scales",
      "model_module_version": "^2.0.0",
      "model_name": "NamedSequentialColorMap",
      "state": {
       "_model_module_version": "^2.0.0",
       "_view_module_version": ""
      }
     },
     "342d34801ed548619d3c1c76bd7eced7": {
      "model_module": "jupyter-scales",
      "model_module_version": "^2.0.0",
      "model_name": "LinearColorScaleModel",
      "state": {
       "_model_module_version": "^2.0.0",
       "_view_module_version": "",
       "range": [
        "red",
        "blue"
       ]
      }
     },
     "3ff1c4239ee44aa4837615f531ee717f": {
      "model_module": "@jupyter-widgets/base",
      "model_module_version": "1.1.0",
      "model_name": "LayoutModel",
      "state": {}
     },
     "5d354bffcb594efab5925f74ab9d9007": {
      "model_module": "jupyter-scales",
      "model_module_version": "^2.0.0",
      "model_name": "ColorBarModel",
      "state": {
       "_model_module_version": "^2.0.0",
       "_view_module_version": "^2.0.0",
       "colormap": "IPY_MODEL_3306014434b94a6aa4d61edc2da5a685",
       "layout": "IPY_MODEL_bcff32ee587e4d5588751fa4bcc5ccb5",
       "length": 500,
       "orientation": "horizontal"
      }
     },
     "5e80550ffe0a4623b69948d7082adf3f": {
      "model_module": "jupyter-scales",
      "model_module_version": "^2.0.0",
      "model_name": "NamedDivergingColorMap",
      "state": {
       "_model_module_version": "^2.0.0",
       "_view_module_version": "",
       "domain": [
        -1,
        0,
        1
       ],
       "name": "RdBu"
      }
     },
     "692de2a0492c47ffb7b3942dd46db00a": {
      "model_module": "jupyter-scales",
      "model_module_version": "^2.0.0",
      "model_name": "LogColorScaleModel",
      "state": {
       "_model_module_version": "^2.0.0",
       "_view_module_version": "",
       "range": [
        "green",
        "orange"
       ]
      }
     },
     "73a26fd966ea47d2a2539a6a7178b0e6": {
      "model_module": "jupyter-scales",
      "model_module_version": "^2.0.0",
      "model_name": "ColorBarModel",
      "state": {
       "_model_module_version": "^2.0.0",
       "_view_module_version": "^2.0.0",
       "colormap": "IPY_MODEL_924690e7d12247dd931a7d6c08597057",
       "layout": "IPY_MODEL_ba87f6e8632a462da8f80c59c7a1a173",
       "length": 500,
       "orientation": "horizontal"
      }
     },
     "924690e7d12247dd931a7d6c08597057": {
      "model_module": "jupyter-scales",
      "model_module_version": "^2.0.0",
      "model_name": "NamedOrdinalColorMap",
      "state": {
       "_model_module_version": "^2.0.0",
       "_view_module_version": "",
       "cardinality": 8,
       "domain": [
        0,
        1,
        2,
        3,
        4,
        5,
        6,
        7,
        8,
        9
       ],
       "name": "Accent"
      }
     },
     "a7a0b70e6ece4cc1a287ccb42b96e316": {
      "model_module": "jupyter-scales",
      "model_module_version": "^2.0.0",
      "model_name": "ColorBarModel",
      "state": {
       "_model_module_version": "^2.0.0",
       "_view_module_version": "^2.0.0",
       "colormap": "IPY_MODEL_5e80550ffe0a4623b69948d7082adf3f",
       "layout": "IPY_MODEL_064c563dc7304e62bbdab5e63be9ab6c",
       "length": 500,
       "orientation": "horizontal"
      }
     },
     "ba87f6e8632a462da8f80c59c7a1a173": {
      "model_module": "@jupyter-widgets/base",
      "model_module_version": "1.1.0",
      "model_name": "LayoutModel",
      "state": {}
     },
     "bcff32ee587e4d5588751fa4bcc5ccb5": {
      "model_module": "@jupyter-widgets/base",
      "model_module_version": "1.1.0",
      "model_name": "LayoutModel",
      "state": {}
     },
     "c9d89b646aef4a73aaf6dfefa15f238a": {
      "model_module": "jupyter-scales",
      "model_module_version": "^2.0.0",
      "model_name": "ColorBarModel",
      "state": {
       "_model_module_version": "^2.0.0",
       "_view_module_version": "^2.0.0",
       "colormap": "IPY_MODEL_342d34801ed548619d3c1c76bd7eced7",
       "layout": "IPY_MODEL_d553ab6d1f544390ab36e5ed6f2fcb07",
       "length": 500,
       "orientation": "horizontal"
      }
     },
     "d553ab6d1f544390ab36e5ed6f2fcb07": {
      "model_module": "@jupyter-widgets/base",
      "model_module_version": "1.1.0",
      "model_name": "LayoutModel",
      "state": {}
     },
     "d763ac9fdfad4865acbb8b9000a8dbcf": {
      "model_module": "jupyter-scales",
      "model_module_version": "^2.0.0",
      "model_name": "ColorBarModel",
      "state": {
       "_model_module_version": "^2.0.0",
       "_view_module_version": "^2.0.0",
       "colormap": "IPY_MODEL_692de2a0492c47ffb7b3942dd46db00a",
       "layout": "IPY_MODEL_3ff1c4239ee44aa4837615f531ee717f",
       "length": 500,
       "orientation": "horizontal"
      }
     }
    },
    "version_major": 2,
    "version_minor": 0
   }
  }
 },
 "nbformat": 4,
 "nbformat_minor": 2
}
