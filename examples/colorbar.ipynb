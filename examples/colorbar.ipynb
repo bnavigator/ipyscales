{
 "cells": [
  {
   "cell_type": "markdown",
   "metadata": {},
   "source": [
    "# Color bars"
   ]
  },
  {
   "cell_type": "markdown",
   "metadata": {},
   "source": [
    "ipyscales includes widgets for visualising color maps as color bars, and for manually editing color maps.\n",
    "\n",
    "Let's define two simple color maps first:"
   ]
  },
  {
   "cell_type": "code",
   "execution_count": 1,
   "metadata": {},
   "outputs": [],
   "source": [
    "import ipyscales"
   ]
  },
  {
   "cell_type": "code",
   "execution_count": 2,
   "metadata": {},
   "outputs": [],
   "source": [
    "cm = ipyscales.LinearColorScale(\n",
    "    range=('blue', 'green'),\n",
    "    domain=(1000, 5000)\n",
    ")\n",
    "cm_div = ipyscales.LinearColorScale(\n",
    "    range=('blue', 'white', 'red'),\n",
    "    domain=(-1, 0, 1)\n",
    ")"
   ]
  },
  {
   "cell_type": "markdown",
   "metadata": {},
   "source": [
    "Next, let us define a color bar for the first color map:"
   ]
  },
  {
   "cell_type": "code",
   "execution_count": 3,
   "metadata": {},
   "outputs": [],
   "source": [
    "colorbar = ipyscales.ColorBar(colormap=cm, length=300)\n",
    "assert colorbar.colormap is cm"
   ]
  },
  {
   "cell_type": "code",
   "execution_count": 4,
   "metadata": {},
   "outputs": [
    {
     "data": {
      "application/vnd.jupyter.widget-view+json": {
       "model_id": "c3c37a9bcebc4be4a3124548119c5bb5",
       "version_major": 2,
       "version_minor": 0
      },
      "text/plain": [
       "ColorBar(colormap=LinearColorScale(domain=(1000.0, 5000.0), range=('blue', 'green')), length=300)"
      ]
     },
     "metadata": {},
     "output_type": "display_data"
    }
   ],
   "source": [
    "colorbar"
   ]
  },
  {
   "cell_type": "markdown",
   "metadata": {},
   "source": [
    "The orientation of the color bar can be made horizontal as well:"
   ]
  },
  {
   "cell_type": "code",
   "execution_count": 5,
   "metadata": {},
   "outputs": [
    {
     "data": {
      "application/vnd.jupyter.widget-view+json": {
       "model_id": "9b049224617f4eb6af0fad982c0bd1a9",
       "version_major": 2,
       "version_minor": 0
      },
      "text/plain": [
       "ColorBar(colormap=LinearColorScale(domain=(-1.0, 0.0, 1.0), range=('blue', 'white', 'red')), length=300, orien…"
      ]
     },
     "metadata": {},
     "output_type": "display_data"
    }
   ],
   "source": [
    "ipyscales.ColorBar(colormap=cm_div, length=300, orientation='horizontal')"
   ]
  },
  {
   "cell_type": "markdown",
   "metadata": {},
   "source": [
    "The color map can include transparent colors, and the color bar also supports this:"
   ]
  },
  {
   "cell_type": "code",
   "execution_count": 6,
   "metadata": {},
   "outputs": [],
   "source": [
    "cm_div_transp = ipyscales.LinearColorScale(\n",
    "    range=('rgba(0, 0, 255, 0.5)', 'white', 'rgba(255, 0, 0, 0.5)'),\n",
    "    domain=(-1, 0, 1)\n",
    ")"
   ]
  },
  {
   "cell_type": "code",
   "execution_count": 7,
   "metadata": {},
   "outputs": [
    {
     "data": {
      "application/vnd.jupyter.widget-view+json": {
       "model_id": "fb658f0c7ad24fa9a134fe7c216a5f65",
       "version_major": 2,
       "version_minor": 0
      },
      "text/plain": [
       "ColorBar(colormap=LinearColorScale(domain=(-1.0, 0.0, 1.0), range=('rgba(0, 0, 255, 0.5)', 'white', 'rgba(255,…"
      ]
     },
     "metadata": {},
     "output_type": "display_data"
    }
   ],
   "source": [
    "ipyscales.ColorBar(colormap=cm_div_transp, length=200)"
   ]
  },
  {
   "cell_type": "markdown",
   "metadata": {},
   "source": [
    "The editor `ColorMapEditor` can be used to manually edit the color map. The actions you can do are:\n",
    "- Change the color of a stop by double-clicking the corresponding handle.\n",
    "- Change the location of stops by dragging the handles."
   ]
  },
  {
   "cell_type": "code",
   "execution_count": 8,
   "metadata": {},
   "outputs": [
    {
     "data": {
      "application/vnd.jupyter.widget-view+json": {
       "model_id": "7d3877eebd4f43958267ab2429822925",
       "version_major": 2,
       "version_minor": 0
      },
      "text/plain": [
       "ColorMapEditor(colormap=LinearColorScale(domain=(-1.0, 0.0, 1.0), range=('rgba(0, 0, 255, 0.5)', 'white', 'rgb…"
      ]
     },
     "metadata": {},
     "output_type": "display_data"
    }
   ],
   "source": [
    "ipyscales.ColorMapEditor(\n",
    "    colormap=cm_div_transp, length=400, orientation='horizontal')"
   ]
  },
  {
   "cell_type": "markdown",
   "metadata": {},
   "source": [
    "Future features planned for the editor include:\n",
    "- Adding new stops.\n",
    "- Removing stops.\n",
    "- Modifying the stop location by numeric input.\n",
    "- UI for changing opacity of a color stop."
   ]
  },
  {
   "cell_type": "code",
   "execution_count": null,
   "metadata": {},
   "outputs": [],
   "source": []
  }
 ],
 "metadata": {
  "kernelspec": {
   "display_name": "Python 3",
   "language": "python",
   "name": "python3"
  },
  "language_info": {
   "codemirror_mode": {
    "name": "ipython",
    "version": 3
   },
   "file_extension": ".py",
   "mimetype": "text/x-python",
   "name": "python",
   "nbconvert_exporter": "python",
   "pygments_lexer": "ipython3",
   "version": "3.6.6"
  },
  "widgets": {
   "application/vnd.jupyter.widget-state+json": {
    "state": {
     "1b88f5db2f29459698b79efd3c8b31a0": {
      "model_module": "jupyter-scales",
      "model_module_version": "^2.0.0",
      "model_name": "LinearColorScaleModel",
      "state": {
       "_model_module_version": "^2.0.0",
       "_view_module_version": "",
       "domain": [
        1000,
        5000
       ],
       "range": [
        "blue",
        "green"
       ]
      }
     },
     "2622e48555514bb8ab77dde1c6b94718": {
      "model_module": "jupyter-scales",
      "model_module_version": "^2.0.0",
      "model_name": "LinearColorScaleModel",
      "state": {
       "_model_module_version": "^2.0.0",
       "_view_module_version": "",
       "domain": [
        -1,
        0,
        1
       ],
       "range": [
        "blue",
        "white",
        "red"
       ]
      }
     },
     "546ebc6766ca44afa84812f48d5de83c": {
      "model_module": "@jupyter-widgets/base",
      "model_module_version": "1.1.0",
      "model_name": "LayoutModel",
      "state": {}
     },
     "7d3877eebd4f43958267ab2429822925": {
      "model_module": "jupyter-scales",
      "model_module_version": "^2.0.0",
      "model_name": "ColorMapEditorModel",
      "state": {
       "_model_module_version": "^2.0.0",
       "_view_module_version": "^2.0.0",
       "colormap": "IPY_MODEL_c7a47c9d03b944f985fd37203fd50231",
       "layout": "IPY_MODEL_8b3762cb295c4ba3a53404407df1b6de",
       "length": 400
      }
     },
     "81c9462f017a4ac0a64c606036790b4e": {
      "model_module": "@jupyter-widgets/base",
      "model_module_version": "1.1.0",
      "model_name": "LayoutModel",
      "state": {}
     },
     "8b3762cb295c4ba3a53404407df1b6de": {
      "model_module": "@jupyter-widgets/base",
      "model_module_version": "1.1.0",
      "model_name": "LayoutModel",
      "state": {}
     },
     "9b049224617f4eb6af0fad982c0bd1a9": {
      "model_module": "jupyter-scales",
      "model_module_version": "^2.0.0",
      "model_name": "ColorBarModel",
      "state": {
       "_model_module_version": "^2.0.0",
       "_view_module_version": "^2.0.0",
       "colormap": "IPY_MODEL_2622e48555514bb8ab77dde1c6b94718",
       "layout": "IPY_MODEL_edd3fa28d55246c481057a55f70a596c",
       "length": 300,
       "orientation": "horizontal"
      }
     },
     "c3c37a9bcebc4be4a3124548119c5bb5": {
      "model_module": "jupyter-scales",
      "model_module_version": "^2.0.0",
      "model_name": "ColorBarModel",
      "state": {
       "_model_module_version": "^2.0.0",
       "_view_module_version": "^2.0.0",
       "colormap": "IPY_MODEL_1b88f5db2f29459698b79efd3c8b31a0",
       "layout": "IPY_MODEL_81c9462f017a4ac0a64c606036790b4e",
       "length": 300
      }
     },
     "c7a47c9d03b944f985fd37203fd50231": {
      "model_module": "jupyter-scales",
      "model_module_version": "^2.0.0",
      "model_name": "LinearColorScaleModel",
      "state": {
       "_model_module_version": "^2.0.0",
       "_view_module_version": "",
       "domain": [
        -1,
        0,
        1
       ],
       "range": [
        "rgba(0, 0, 255, 0.5)",
        "white",
        "rgba(255, 0, 0, 0.5)"
       ]
      }
     },
     "edd3fa28d55246c481057a55f70a596c": {
      "model_module": "@jupyter-widgets/base",
      "model_module_version": "1.1.0",
      "model_name": "LayoutModel",
      "state": {}
     },
     "fb658f0c7ad24fa9a134fe7c216a5f65": {
      "model_module": "jupyter-scales",
      "model_module_version": "^2.0.0",
      "model_name": "ColorBarModel",
      "state": {
       "_model_module_version": "^2.0.0",
       "_view_module_version": "^2.0.0",
       "colormap": "IPY_MODEL_c7a47c9d03b944f985fd37203fd50231",
       "layout": "IPY_MODEL_546ebc6766ca44afa84812f48d5de83c",
       "length": 200
      }
     }
    },
    "version_major": 2,
    "version_minor": 0
   }
  }
 },
 "nbformat": 4,
 "nbformat_minor": 2
}
