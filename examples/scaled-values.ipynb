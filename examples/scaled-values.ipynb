{
 "cells": [
  {
   "cell_type": "markdown",
   "metadata": {},
   "source": [
    "# Using scaled values\n",
    "\n",
    "Sometimes, scales can just be given to a widget, and it will be used internally by that widget to scale its values as needed. However, to integrate with other widgets that do not know about scales, we use the `ScaledValue` widget as a link."
   ]
  },
  {
   "cell_type": "code",
   "execution_count": 1,
   "metadata": {},
   "outputs": [],
   "source": [
    "from ipyscales import LinearScale, QuantizeScale, NamedOrdinalColorMap, ScaledValue\n",
    "from ipywidgets import FloatSlider, FloatRangeSlider, FloatText, Label, ColorPicker, jslink, GridBox, HBox, Layout\n",
    "from traitlets import link"
   ]
  },
  {
   "cell_type": "markdown",
   "metadata": {},
   "source": [
    "## Scaling a float input\n",
    "\n",
    "For our first example, we start with a simple linear normalizer scale:"
   ]
  },
  {
   "cell_type": "code",
   "execution_count": 2,
   "metadata": {},
   "outputs": [],
   "source": [
    "normalizer = LinearScale(domain=(0, 100))"
   ]
  },
  {
   "cell_type": "markdown",
   "metadata": {},
   "source": [
    "We then add a range slider to select its input domain. The scale will then normalize this domain to its default `[0, 1]` range."
   ]
  },
  {
   "cell_type": "code",
   "execution_count": 3,
   "metadata": {},
   "outputs": [
    {
     "data": {
      "application/vnd.jupyter.widget-view+json": {
       "model_id": "13bbbe9ffda243dca3fc296ccb7e8e2c",
       "version_major": 2,
       "version_minor": 0
      },
      "text/plain": [
       "FloatRangeSlider(value=(0.0, 100.0), min=-100.0)"
      ]
     },
     "metadata": {},
     "output_type": "display_data"
    }
   ],
   "source": [
    "domain_picker = FloatRangeSlider(value=normalizer.domain, min=-100, max=100)\n",
    "jslink((normalizer, 'domain'), (domain_picker, 'value'))\n",
    "domain_picker"
   ]
  },
  {
   "cell_type": "markdown",
   "metadata": {},
   "source": [
    "To show the effect of this normalizer on a value, we set up an input value from a slider, and a **scaled version of that value** ."
   ]
  },
  {
   "cell_type": "code",
   "execution_count": 4,
   "metadata": {},
   "outputs": [
    {
     "data": {
      "application/vnd.jupyter.widget-view+json": {
       "model_id": "ebc7a06ad7b44bbda42ebbd9f1049888",
       "version_major": 2,
       "version_minor": 0
      },
      "text/plain": [
       "FloatSlider(value=0.0, min=-100.0)"
      ]
     },
     "metadata": {},
     "output_type": "display_data"
    }
   ],
   "source": [
    "input_value = FloatSlider(value=0, min=domain_picker.min, max=domain_picker.max)\n",
    "link((input_value, 'min'), (domain_picker, 'min'))\n",
    "link((input_value, 'max'), (domain_picker, 'max'))\n",
    "\n",
    "normalized_value = ScaledValue(scale=normalizer)\n",
    "jslink((input_value, 'value'), (normalized_value, 'input'))\n",
    "\n",
    "input_value"
   ]
  },
  {
   "cell_type": "markdown",
   "metadata": {},
   "source": [
    "To display the scaled value, we link it to a display. We disable the input of the display, as it does not make sense for the user to write to this value direcly."
   ]
  },
  {
   "cell_type": "code",
   "execution_count": 5,
   "metadata": {},
   "outputs": [
    {
     "data": {
      "application/vnd.jupyter.widget-view+json": {
       "model_id": "699d982428d34c5b9b507b7bf2638852",
       "version_major": 2,
       "version_minor": 0
      },
      "text/plain": [
       "FloatText(value=0.0, disabled=True)"
      ]
     },
     "metadata": {},
     "output_type": "display_data"
    }
   ],
   "source": [
    "value_display = FloatText(disabled=True)\n",
    "jslink((normalized_value, 'output'), (value_display, 'value'))\n",
    "value_display"
   ]
  },
  {
   "cell_type": "markdown",
   "metadata": {},
   "source": [
    "## Other scales\n",
    "\n",
    "We can also use the `ScaledValue` widget with other kinds of scales. Here, we set up a quantize scale to split the domain above into four equally sized regions, that each map to a string (a label for a quartile):"
   ]
  },
  {
   "cell_type": "code",
   "execution_count": 6,
   "metadata": {},
   "outputs": [],
   "source": [
    "quartile = QuantizeScale(range=('first', 'second', 'third', 'fourth'))\n",
    "jslink((normalizer, 'domain'), (quartile, 'domain'))"
   ]
  },
  {
   "cell_type": "markdown",
   "metadata": {},
   "source": [
    "Next, we set up a `ScaledValue` for mapping our user input through this scale:"
   ]
  },
  {
   "cell_type": "code",
   "execution_count": 7,
   "metadata": {},
   "outputs": [],
   "source": [
    "quartile_value = ScaledValue(scale=quartile)\n",
    "jslink((input_value, 'value'), (quartile_value, 'input'))"
   ]
  },
  {
   "cell_type": "markdown",
   "metadata": {},
   "source": [
    "And finally, we link the scaled output to a `Label` to display it to the user. Note how any values outside the domain will be clamped to the nearest edge value."
   ]
  },
  {
   "cell_type": "code",
   "execution_count": 8,
   "metadata": {},
   "outputs": [
    {
     "data": {
      "application/vnd.jupyter.widget-view+json": {
       "model_id": "be2c1e54871144e9932779a012633dbf",
       "version_major": 2,
       "version_minor": 0
      },
      "text/plain": [
       "Label(value='')"
      ]
     },
     "metadata": {},
     "output_type": "display_data"
    }
   ],
   "source": [
    "quartile_display = Label()\n",
    "jslink((quartile_value, 'output'), (quartile_display, 'value'))\n",
    "quartile_display"
   ]
  },
  {
   "cell_type": "markdown",
   "metadata": {},
   "source": [
    "## Chaining scaled values\n",
    "\n",
    "Sometimes, it might make sense to chain multiple scaled values. Here, we will continue the quartile example above by setting up an ordinal color scale which maps the quartile label above to a color. While it would be possible to set up a scale that maps a value directly from the input range to an ordinal color, it might be easier to simply set up a chain:"
   ]
  },
  {
   "cell_type": "code",
   "execution_count": 9,
   "metadata": {},
   "outputs": [
    {
     "data": {
      "application/vnd.jupyter.widget-view+json": {
       "model_id": "9b8d183586d6483786962ebe088c1068",
       "version_major": 2,
       "version_minor": 0
      },
      "text/plain": [
       "VBox(children=(StringDropdown(options=('Accent', 'Blues', 'BrBG', 'BuGn', 'BuPu', 'Category10', 'Dark2', 'GnBu…"
      ]
     },
     "metadata": {},
     "output_type": "display_data"
    }
   ],
   "source": [
    "color_scale = NamedOrdinalColorMap('Spectral', cardinality=4)\n",
    "jslink((quartile, 'range'), (color_scale, 'domain'))\n",
    "color_scale.edit()"
   ]
  },
  {
   "cell_type": "code",
   "execution_count": 10,
   "metadata": {},
   "outputs": [],
   "source": [
    "color_value = ScaledValue(input=quartile_value, scale=color_scale)"
   ]
  },
  {
   "cell_type": "code",
   "execution_count": 11,
   "metadata": {},
   "outputs": [
    {
     "data": {
      "application/vnd.jupyter.widget-view+json": {
       "model_id": "232b8ed09e354ccebb664461827aa3c8",
       "version_major": 2,
       "version_minor": 0
      },
      "text/plain": [
       "ColorPicker(value='black', concise=True, disabled=True, layout=Layout(width='30px'))"
      ]
     },
     "metadata": {},
     "output_type": "display_data"
    }
   ],
   "source": [
    "colored_display = ColorPicker(disabled=True, concise=True, layout=Layout(width='30px'))\n",
    "jslink((color_value, 'output'), (colored_display, 'value'))\n",
    "colored_display"
   ]
  },
  {
   "cell_type": "markdown",
   "metadata": {},
   "source": [
    "## Dashboard\n",
    "\n",
    "Collecting all our pieces together in a dashboard (as new views on the same models):"
   ]
  },
  {
   "cell_type": "code",
   "execution_count": 12,
   "metadata": {},
   "outputs": [
    {
     "data": {
      "application/vnd.jupyter.widget-view+json": {
       "model_id": "84ceb80702db4de69432e620bc8723b2",
       "version_major": 2,
       "version_minor": 0
      },
      "text/plain": [
       "GridBox(children=(Label(value='Domain:'), FloatRangeSlider(value=(0.0, 100.0), min=-100.0), Label(value='Value…"
      ]
     },
     "metadata": {},
     "output_type": "display_data"
    }
   ],
   "source": [
    "GridBox(\n",
    "    [\n",
    "        Label('Domain:'), domain_picker,\n",
    "        Label('Value:'), input_value,\n",
    "        Label('Quartile:'), HBox([colored_display, quartile_display])\n",
    "    ],\n",
    "    layout=Layout(\n",
    "        width='50%',\n",
    "        grid_template_columns='6em auto',\n",
    "        grid_template_areas='''\n",
    "            \"labelA domain\"\n",
    "            \"labelB value \"\n",
    "            \"labelC scaled\"\n",
    "        '''\n",
    "    )\n",
    ")"
   ]
  },
  {
   "cell_type": "code",
   "execution_count": null,
   "metadata": {},
   "outputs": [],
   "source": []
  }
 ],
 "metadata": {
  "kernelspec": {
   "display_name": "Python 3",
   "language": "python",
   "name": "python3"
  },
  "language_info": {
   "codemirror_mode": {
    "name": "ipython",
    "version": 3
   },
   "file_extension": ".py",
   "mimetype": "text/x-python",
   "name": "python",
   "nbconvert_exporter": "python",
   "pygments_lexer": "ipython3",
   "version": "3.6.6"
  },
  "widgets": {
   "application/vnd.jupyter.widget-state+json": {
    "state": {
     "06a896ef37204df39b44a219d4ee12cc": {
      "model_module": "@jupyter-widgets/controls",
      "model_module_version": "1.4.0",
      "model_name": "SliderStyleModel",
      "state": {
       "description_width": ""
      }
     },
     "0d5ad9ca4e854c33af37f3af749db9fb": {
      "model_module": "@jupyter-widgets/base",
      "model_module_version": "1.1.0",
      "model_name": "LayoutModel",
      "state": {}
     },
     "10cb2596b570452b9e53da124496d2c3": {
      "model_module": "jupyter-scales",
      "model_module_version": "^2.0.0",
      "model_name": "ScaledValueModel",
      "state": {
       "_model_module_version": "^2.0.0",
       "_view_module_version": "",
       "input": 0,
       "scale": "IPY_MODEL_e150861acf2248478bdf35885ea799a6"
      }
     },
     "13bbbe9ffda243dca3fc296ccb7e8e2c": {
      "model_module": "@jupyter-widgets/controls",
      "model_module_version": "1.4.0",
      "model_name": "FloatRangeSliderModel",
      "state": {
       "_model_name": "FloatRangeSliderModel",
       "_view_name": "FloatRangeSliderView",
       "layout": "IPY_MODEL_30654bd7ed4d4df281178fd085c2ec5d",
       "min": -100,
       "step": 0.1,
       "style": "IPY_MODEL_06a896ef37204df39b44a219d4ee12cc",
       "value": [
        0,
        100
       ]
      }
     },
     "1fd30aa5666d4dd9a87ff9c547c532dd": {
      "model_module": "@jupyter-widgets/controls",
      "model_module_version": "1.4.0",
      "model_name": "LinkModel",
      "state": {
       "source": [
        "IPY_MODEL_7eafec0e06a84c1fb5e4a734a0a0e600",
        "output"
       ],
       "target": [
        "IPY_MODEL_232b8ed09e354ccebb664461827aa3c8",
        "value"
       ]
      }
     },
     "232b8ed09e354ccebb664461827aa3c8": {
      "model_module": "@jupyter-widgets/controls",
      "model_module_version": "1.4.0",
      "model_name": "ColorPickerModel",
      "state": {
       "concise": true,
       "disabled": true,
       "layout": "IPY_MODEL_59adde53c3e34b01904531d3c8b7eaa8",
       "style": "IPY_MODEL_36ca344c758246ce8df6d641042c6a83",
       "value": "#d7191c"
      }
     },
     "303d1d4cf582490a882af55970bf33cb": {
      "model_module": "@jupyter-widgets/controls",
      "model_module_version": "1.4.0",
      "model_name": "LabelModel",
      "state": {
       "layout": "IPY_MODEL_0d5ad9ca4e854c33af37f3af749db9fb",
       "style": "IPY_MODEL_bce1dbea3bc64f4c910437c2039f045d",
       "value": "Quartile:"
      }
     },
     "30654bd7ed4d4df281178fd085c2ec5d": {
      "model_module": "@jupyter-widgets/base",
      "model_module_version": "1.1.0",
      "model_name": "LayoutModel",
      "state": {}
     },
     "36ca344c758246ce8df6d641042c6a83": {
      "model_module": "@jupyter-widgets/controls",
      "model_module_version": "1.4.0",
      "model_name": "DescriptionStyleModel",
      "state": {
       "description_width": ""
      }
     },
     "404917cfe791407b8595ff72c5daf47e": {
      "model_module": "@jupyter-widgets/controls",
      "model_module_version": "1.4.0",
      "model_name": "HBoxModel",
      "state": {
       "children": [
        "IPY_MODEL_232b8ed09e354ccebb664461827aa3c8",
        "IPY_MODEL_be2c1e54871144e9932779a012633dbf"
       ],
       "layout": "IPY_MODEL_af6a88169d244f0caeb98027bc841b73"
      }
     },
     "567ebf390b704c7ba1f2c4bd95a9791b": {
      "model_module": "jupyter-scales",
      "model_module_version": "^2.0.0",
      "model_name": "NamedOrdinalColorMap",
      "state": {
       "_model_module_version": "^2.0.0",
       "_view_module_version": "",
       "cardinality": 4,
       "domain": [
        "first",
        "second",
        "third",
        "fourth"
       ],
       "name": "Spectral"
      }
     },
     "59adde53c3e34b01904531d3c8b7eaa8": {
      "model_module": "@jupyter-widgets/base",
      "model_module_version": "1.1.0",
      "model_name": "LayoutModel",
      "state": {
       "width": "30px"
      }
     },
     "5d400b3cfc49467bb8b82a71f7b8e660": {
      "model_module": "@jupyter-widgets/controls",
      "model_module_version": "1.4.0",
      "model_name": "SliderStyleModel",
      "state": {
       "description_width": ""
      }
     },
     "640bd40b757a40988708ea380ff8b004": {
      "model_module": "@jupyter-widgets/base",
      "model_module_version": "1.1.0",
      "model_name": "LayoutModel",
      "state": {}
     },
     "665f647a29ae4314817f802b5202eac0": {
      "model_module": "@jupyter-widgets/base",
      "model_module_version": "1.1.0",
      "model_name": "LayoutModel",
      "state": {}
     },
     "68986f08c0e84727872b6d31dbf4cac1": {
      "model_module": "@jupyter-widgets/controls",
      "model_module_version": "1.4.0",
      "model_name": "LinkModel",
      "state": {
       "source": [
        "IPY_MODEL_e150861acf2248478bdf35885ea799a6",
        "domain"
       ],
       "target": [
        "IPY_MODEL_13bbbe9ffda243dca3fc296ccb7e8e2c",
        "value"
       ]
      }
     },
     "699d982428d34c5b9b507b7bf2638852": {
      "model_module": "@jupyter-widgets/controls",
      "model_module_version": "1.4.0",
      "model_name": "FloatTextModel",
      "state": {
       "disabled": true,
       "layout": "IPY_MODEL_b3559620c73942c8a28b6447bfb0aa2e",
       "step": null,
       "style": "IPY_MODEL_cba4062214b444e7a492a50513842359"
      }
     },
     "72a8464614224c5ca7e4801d2a4849c5": {
      "model_module": "@jupyter-widgets/controls",
      "model_module_version": "1.4.0",
      "model_name": "LinkModel",
      "state": {
       "source": [
        "IPY_MODEL_567ebf390b704c7ba1f2c4bd95a9791b",
        "name"
       ],
       "target": [
        "IPY_MODEL_c03c5c5806074601b95cabee99450744",
        "value"
       ]
      }
     },
     "74012be3c4ba45ddbdd91e7e5b0cb862": {
      "model_module": "@jupyter-widgets/controls",
      "model_module_version": "1.4.0",
      "model_name": "LinkModel",
      "state": {
       "source": [
        "IPY_MODEL_ebc7a06ad7b44bbda42ebbd9f1049888",
        "value"
       ],
       "target": [
        "IPY_MODEL_d35f817d003f44ed834a280e5bde5651",
        "input"
       ]
      }
     },
     "7594b6058af74ddb95c9b2735ec4585e": {
      "model_module": "@jupyter-widgets/controls",
      "model_module_version": "1.4.0",
      "model_name": "LinkModel",
      "state": {
       "source": [
        "IPY_MODEL_e150861acf2248478bdf35885ea799a6",
        "domain"
       ],
       "target": [
        "IPY_MODEL_f5198c891309496d88ed24eeaca993f3",
        "domain"
       ]
      }
     },
     "7eafec0e06a84c1fb5e4a734a0a0e600": {
      "model_module": "jupyter-scales",
      "model_module_version": "^2.0.0",
      "model_name": "ScaledValueModel",
      "state": {
       "_model_module_version": "^2.0.0",
       "_view_module_version": "",
       "input": "IPY_MODEL_d35f817d003f44ed834a280e5bde5651",
       "scale": "IPY_MODEL_567ebf390b704c7ba1f2c4bd95a9791b"
      }
     },
     "80f5d9e9bc144982887ddfe09fdae8c2": {
      "model_module": "@jupyter-widgets/base",
      "model_module_version": "1.1.0",
      "model_name": "LayoutModel",
      "state": {}
     },
     "81d180d1e8e84b6dbb11f5d72090ab56": {
      "model_module": "@jupyter-widgets/base",
      "model_module_version": "1.1.0",
      "model_name": "LayoutModel",
      "state": {
       "grid_template_areas": "\n            \"labelA domain\"\n            \"labelB value \"\n            \"labelC scaled\"\n        ",
       "grid_template_columns": "6em auto",
       "width": "50%"
      }
     },
     "82a31845b2af4e13abfec9e5a428a886": {
      "model_module": "@jupyter-widgets/controls",
      "model_module_version": "1.4.0",
      "model_name": "LinkModel",
      "state": {
       "source": [
        "IPY_MODEL_f5198c891309496d88ed24eeaca993f3",
        "range"
       ],
       "target": [
        "IPY_MODEL_567ebf390b704c7ba1f2c4bd95a9791b",
        "domain"
       ]
      }
     },
     "84ceb80702db4de69432e620bc8723b2": {
      "model_module": "@jupyter-widgets/controls",
      "model_module_version": "1.4.0",
      "model_name": "GridBoxModel",
      "state": {
       "children": [
        "IPY_MODEL_feaa867b89254295a15cac670961d37e",
        "IPY_MODEL_13bbbe9ffda243dca3fc296ccb7e8e2c",
        "IPY_MODEL_e367310cab694d599b39f02dbc037405",
        "IPY_MODEL_ebc7a06ad7b44bbda42ebbd9f1049888",
        "IPY_MODEL_303d1d4cf582490a882af55970bf33cb",
        "IPY_MODEL_404917cfe791407b8595ff72c5daf47e"
       ],
       "layout": "IPY_MODEL_81d180d1e8e84b6dbb11f5d72090ab56"
      }
     },
     "84fb8a8ca4dd47d7b8e0e41a05c03578": {
      "model_module": "@jupyter-widgets/controls",
      "model_module_version": "1.4.0",
      "model_name": "LinkModel",
      "state": {
       "source": [
        "IPY_MODEL_ebc7a06ad7b44bbda42ebbd9f1049888",
        "value"
       ],
       "target": [
        "IPY_MODEL_10cb2596b570452b9e53da124496d2c3",
        "input"
       ]
      }
     },
     "90a0cfa8293946b88223c4cb9febd1d1": {
      "model_module": "@jupyter-widgets/controls",
      "model_module_version": "1.4.0",
      "model_name": "LinkModel",
      "state": {
       "source": [
        "IPY_MODEL_10cb2596b570452b9e53da124496d2c3",
        "output"
       ],
       "target": [
        "IPY_MODEL_699d982428d34c5b9b507b7bf2638852",
        "value"
       ]
      }
     },
     "9b8d183586d6483786962ebe088c1068": {
      "model_module": "@jupyter-widgets/controls",
      "model_module_version": "1.4.0",
      "model_name": "VBoxModel",
      "state": {
       "children": [
        "IPY_MODEL_c03c5c5806074601b95cabee99450744"
       ],
       "layout": "IPY_MODEL_c5c3068a7cde4cd4ab976100ecd2aa5b"
      }
     },
     "9cdd0006c5874edbbd170ca980cc4cad": {
      "model_module": "@jupyter-widgets/controls",
      "model_module_version": "1.4.0",
      "model_name": "LinkModel",
      "state": {
       "source": [
        "IPY_MODEL_d35f817d003f44ed834a280e5bde5651",
        "output"
       ],
       "target": [
        "IPY_MODEL_be2c1e54871144e9932779a012633dbf",
        "value"
       ]
      }
     },
     "af6a88169d244f0caeb98027bc841b73": {
      "model_module": "@jupyter-widgets/base",
      "model_module_version": "1.1.0",
      "model_name": "LayoutModel",
      "state": {}
     },
     "b3559620c73942c8a28b6447bfb0aa2e": {
      "model_module": "@jupyter-widgets/base",
      "model_module_version": "1.1.0",
      "model_name": "LayoutModel",
      "state": {}
     },
     "b3e7255238d646a3bae7912832cab5f5": {
      "model_module": "@jupyter-widgets/controls",
      "model_module_version": "1.4.0",
      "model_name": "DescriptionStyleModel",
      "state": {
       "description_width": ""
      }
     },
     "bce1dbea3bc64f4c910437c2039f045d": {
      "model_module": "@jupyter-widgets/controls",
      "model_module_version": "1.4.0",
      "model_name": "DescriptionStyleModel",
      "state": {
       "description_width": ""
      }
     },
     "be2c1e54871144e9932779a012633dbf": {
      "model_module": "@jupyter-widgets/controls",
      "model_module_version": "1.4.0",
      "model_name": "LabelModel",
      "state": {
       "layout": "IPY_MODEL_80f5d9e9bc144982887ddfe09fdae8c2",
       "style": "IPY_MODEL_c8a27055378b459f82488f936db38fe6",
       "value": "first"
      }
     },
     "c03c5c5806074601b95cabee99450744": {
      "model_module": "jupyter-scales",
      "model_module_version": "^2.0.0",
      "model_name": "StringDropdownModel",
      "state": {
       "_model_module_version": "^2.0.0",
       "_view_module_version": "^2.0.0",
       "_view_name": "DropdownView",
       "layout": "IPY_MODEL_640bd40b757a40988708ea380ff8b004",
       "options": [
        "Accent",
        "Blues",
        "BrBG",
        "BuGn",
        "BuPu",
        "Category10",
        "Dark2",
        "GnBu",
        "Greens",
        "Greys",
        "OrRd",
        "Oranges",
        "PRGn",
        "Paired",
        "Pastel1",
        "Pastel2",
        "PiYG",
        "PuBu",
        "PuBuGn",
        "PuOr",
        "PuRd",
        "Purples",
        "RdBu",
        "RdGy",
        "RdPu",
        "RdYlBu",
        "RdYlGn",
        "Reds",
        "Set1",
        "Set2",
        "Set3",
        "Spectral",
        "YlGn",
        "YlGnBu",
        "YlOrBr",
        "YlOrRd"
       ],
       "value": "Spectral"
      }
     },
     "c5c3068a7cde4cd4ab976100ecd2aa5b": {
      "model_module": "@jupyter-widgets/base",
      "model_module_version": "1.1.0",
      "model_name": "LayoutModel",
      "state": {}
     },
     "c8a27055378b459f82488f936db38fe6": {
      "model_module": "@jupyter-widgets/controls",
      "model_module_version": "1.4.0",
      "model_name": "DescriptionStyleModel",
      "state": {
       "description_width": ""
      }
     },
     "cb0ec6a0945c4e5fbbe0c27e44c50ded": {
      "model_module": "@jupyter-widgets/controls",
      "model_module_version": "1.4.0",
      "model_name": "DescriptionStyleModel",
      "state": {
       "description_width": ""
      }
     },
     "cba4062214b444e7a492a50513842359": {
      "model_module": "@jupyter-widgets/controls",
      "model_module_version": "1.4.0",
      "model_name": "DescriptionStyleModel",
      "state": {
       "description_width": ""
      }
     },
     "cf53893202b24218a8862fc8b656a8bc": {
      "model_module": "@jupyter-widgets/base",
      "model_module_version": "1.1.0",
      "model_name": "LayoutModel",
      "state": {}
     },
     "d35f817d003f44ed834a280e5bde5651": {
      "model_module": "jupyter-scales",
      "model_module_version": "^2.0.0",
      "model_name": "ScaledValueModel",
      "state": {
       "_model_module_version": "^2.0.0",
       "_view_module_version": "",
       "input": 0,
       "scale": "IPY_MODEL_f5198c891309496d88ed24eeaca993f3"
      }
     },
     "e150861acf2248478bdf35885ea799a6": {
      "model_module": "jupyter-scales",
      "model_module_version": "^2.0.0",
      "model_name": "LinearScaleModel",
      "state": {
       "_model_module_version": "^2.0.0",
       "_view_module_version": "",
       "domain": [
        0,
        100
       ]
      }
     },
     "e367310cab694d599b39f02dbc037405": {
      "model_module": "@jupyter-widgets/controls",
      "model_module_version": "1.4.0",
      "model_name": "LabelModel",
      "state": {
       "layout": "IPY_MODEL_cf53893202b24218a8862fc8b656a8bc",
       "style": "IPY_MODEL_cb0ec6a0945c4e5fbbe0c27e44c50ded",
       "value": "Value:"
      }
     },
     "e9d1eb10426146dfb34ef91e021d8c52": {
      "model_module": "@jupyter-widgets/base",
      "model_module_version": "1.1.0",
      "model_name": "LayoutModel",
      "state": {}
     },
     "ebc7a06ad7b44bbda42ebbd9f1049888": {
      "model_module": "@jupyter-widgets/controls",
      "model_module_version": "1.4.0",
      "model_name": "FloatSliderModel",
      "state": {
       "layout": "IPY_MODEL_e9d1eb10426146dfb34ef91e021d8c52",
       "min": -100,
       "step": 0.1,
       "style": "IPY_MODEL_5d400b3cfc49467bb8b82a71f7b8e660"
      }
     },
     "f5198c891309496d88ed24eeaca993f3": {
      "model_module": "jupyter-scales",
      "model_module_version": "^2.0.0",
      "model_name": "QuantizeScaleModel",
      "state": {
       "_model_module_version": "^2.0.0",
       "_view_module_version": "",
       "domain": [
        0,
        100
       ],
       "range": [
        "first",
        "second",
        "third",
        "fourth"
       ]
      }
     },
     "feaa867b89254295a15cac670961d37e": {
      "model_module": "@jupyter-widgets/controls",
      "model_module_version": "1.4.0",
      "model_name": "LabelModel",
      "state": {
       "layout": "IPY_MODEL_665f647a29ae4314817f802b5202eac0",
       "style": "IPY_MODEL_b3e7255238d646a3bae7912832cab5f5",
       "value": "Domain:"
      }
     }
    },
    "version_major": 2,
    "version_minor": 0
   }
  }
 },
 "nbformat": 4,
 "nbformat_minor": 2
}
