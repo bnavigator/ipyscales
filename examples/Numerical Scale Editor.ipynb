{
 "cells": [
  {
   "cell_type": "markdown",
   "metadata": {},
   "source": [
    "# Numerical scale editor"
   ]
  },
  {
   "cell_type": "code",
   "execution_count": 1,
   "metadata": {},
   "outputs": [],
   "source": [
    "from ipyscales import LinearScale, LogScale, PowScale"
   ]
  },
  {
   "cell_type": "code",
   "execution_count": 2,
   "metadata": {},
   "outputs": [
    {
     "data": {
      "application/vnd.jupyter.widget-view+json": {
       "model_id": "aeb801e9e25147eaa3baddc75f043968",
       "version_major": 2,
       "version_minor": 0
      },
      "text/plain": [
       "ContinuousScaleEditor(scale=LinearScale(domain=(0.1, 0.3, 1.0), range=(10, 40, 60)))"
      ]
     },
     "metadata": {},
     "output_type": "display_data"
    }
   ],
   "source": [
    "scale = LinearScale(domain=[0.1, 0.3, 1.0], range=[10, 40, 60], interpelator=\"interpolateBasis\")\n",
    "scale.edit()"
   ]
  },
  {
   "cell_type": "code",
   "execution_count": 3,
   "metadata": {},
   "outputs": [
    {
     "data": {
      "application/vnd.jupyter.widget-view+json": {
       "model_id": "d8016fcecf5f498587de620fa31c10ca",
       "version_major": 2,
       "version_minor": 0
      },
      "text/plain": [
       "ContinuousScaleEditor(scale=LogScale(domain=(0.1, 0.3, 1.0), range=(10, 120, 600)))"
      ]
     },
     "metadata": {},
     "output_type": "display_data"
    }
   ],
   "source": [
    "logScale = LogScale(domain=[0.1, 0.3, 1.0], range=[10, 120, 600])\n",
    "logScale.edit()"
   ]
  },
  {
   "cell_type": "code",
   "execution_count": 4,
   "metadata": {},
   "outputs": [
    {
     "data": {
      "application/vnd.jupyter.widget-view+json": {
       "model_id": "686ca562246340ff9225db00916ad034",
       "version_major": 2,
       "version_minor": 0
      },
      "text/plain": [
       "ContinuousScaleEditor(scale=PowScale(domain=(0.1, 0.3, 1.0), exponent=10.0, range=(10, 57, 60)))"
      ]
     },
     "metadata": {},
     "output_type": "display_data"
    }
   ],
   "source": [
    "powScale = PowScale(domain=[0.1, 0.3, 1.0], range=[10, 57, 60], exponent=10)\n",
    "powScale.edit()"
   ]
  },
  {
   "cell_type": "code",
   "execution_count": null,
   "metadata": {},
   "outputs": [],
   "source": []
  }
 ],
 "metadata": {
  "kernelspec": {
   "display_name": "Python 3",
   "language": "python",
   "name": "python3"
  },
  "language_info": {
   "codemirror_mode": {
    "name": "ipython",
    "version": 3
   },
   "file_extension": ".py",
   "mimetype": "text/x-python",
   "name": "python",
   "nbconvert_exporter": "python",
   "pygments_lexer": "ipython3",
   "version": "3.6.6"
  }
 },
 "nbformat": 4,
 "nbformat_minor": 2
}
